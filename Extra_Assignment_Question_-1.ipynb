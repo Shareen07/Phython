{
 "cells": [
  {
   "cell_type": "code",
   "execution_count": 1,
   "id": "7918f352",
   "metadata": {},
   "outputs": [
    {
     "name": "stdout",
     "output_type": "stream",
     "text": [
      "HOPE AI\n"
     ]
    }
   ],
   "source": [
    "print(\"HOPE AI\")"
   ]
  },
  {
   "cell_type": "code",
   "execution_count": 2,
   "id": "a6b3ca0e",
   "metadata": {},
   "outputs": [
    {
     "name": "stdout",
     "output_type": "stream",
     "text": [
      "Enter your institute name? : HOPE AI\n"
     ]
    }
   ],
   "source": [
    "institue_name = str(input(\"Enter your institute name? : \"))"
   ]
  },
  {
   "cell_type": "code",
   "execution_count": 3,
   "id": "64ed436e",
   "metadata": {},
   "outputs": [
    {
     "name": "stdout",
     "output_type": "stream",
     "text": [
      "Enter your name: SHAREEN\n",
      "Enter your age: 24\n",
      "Enter your school name: DMHSS\n",
      "Enter your degree: BE, CIVIL\n"
     ]
    }
   ],
   "source": [
    "Person_Name = str(input(\"Enter your name: \"))\n",
    "Person_Age = int(input(\"Enter your age: \"))\n",
    "School_Name = str(input(\"Enter your school name: \"))\n",
    "Degree = str(input(\"Enter your degree: \"))"
   ]
  },
  {
   "cell_type": "code",
   "execution_count": 4,
   "id": "bcbcc70e",
   "metadata": {},
   "outputs": [
    {
     "name": "stdout",
     "output_type": "stream",
     "text": [
      "Enter a value:45\n",
      "45\n",
      "Enter b value:55\n",
      "55\n",
      "add= 100\n"
     ]
    }
   ],
   "source": [
    "a=int(input(\"Enter a value:\"))\n",
    "print(a)\n",
    "b=int(input(\"Enter b value:\"))\n",
    "print(b)\n",
    "add=a+b;\n",
    "print(\"add=\",add)\n"
   ]
  },
  {
   "cell_type": "code",
   "execution_count": 5,
   "id": "50a2f88e",
   "metadata": {},
   "outputs": [
    {
     "name": "stdout",
     "output_type": "stream",
     "text": [
      "Enter a value:55\n",
      "a= 55\n",
      "Enter b value:35\n",
      "b= 35\n",
      "sub= 20\n"
     ]
    }
   ],
   "source": [
    "a=int(input(\"Enter a value:\"))\n",
    "print(\"a=\",a)\n",
    "b=int(input(\"Enter b value:\"))\n",
    "print(\"b=\",b)\n",
    "sub=a-b;\n",
    "print(\"sub=\",sub)\n"
   ]
  },
  {
   "cell_type": "code",
   "execution_count": 6,
   "id": "6effa474",
   "metadata": {},
   "outputs": [
    {
     "name": "stdout",
     "output_type": "stream",
     "text": [
      "Enter a value:76\n",
      "a= 76\n",
      "Enter b value:31\n",
      "b= 31\n",
      "Div= 2.4516129032258065\n"
     ]
    }
   ],
   "source": [
    "a=int(input(\"Enter a value:\"))\n",
    "print(\"a=\",a)\n",
    "b=int(input(\"Enter b value:\"))\n",
    "print(\"b=\",b)\n",
    "Div=a/b;\n",
    "print(\"Div=\",Div)"
   ]
  },
  {
   "cell_type": "code",
   "execution_count": 7,
   "id": "1ca5f687",
   "metadata": {},
   "outputs": [
    {
     "name": "stdout",
     "output_type": "stream",
     "text": [
      "Enter a value:76\n",
      "a= 76\n",
      "Enter b value:31\n",
      "b= 31\n",
      "Floor Div= 2\n"
     ]
    }
   ],
   "source": [
    "a=int(input(\"Enter a value:\"))\n",
    "print(\"a=\",a)\n",
    "b=int(input(\"Enter b value:\"))\n",
    "print(\"b=\",b)\n",
    "Div=a//b;\n",
    "print(\"Floor Div=\",Div)"
   ]
  },
  {
   "cell_type": "code",
   "execution_count": 8,
   "id": "b6566874",
   "metadata": {},
   "outputs": [
    {
     "name": "stdout",
     "output_type": "stream",
     "text": [
      "Enter a value:76\n",
      "a= 76\n",
      "Enter b value:31\n",
      "b= 31\n",
      "Modulo =  14\n"
     ]
    }
   ],
   "source": [
    "a=int(input(\"Enter a value:\"))\n",
    "print(\"a=\",a)\n",
    "b=int(input(\"Enter b value:\"))\n",
    "print(\"b=\",b)\n",
    "Modulo=a%b;\n",
    "print(\"Modulo = \",Modulo)"
   ]
  },
  {
   "cell_type": "code",
   "execution_count": 9,
   "id": "766d6c5b",
   "metadata": {},
   "outputs": [
    {
     "name": "stdout",
     "output_type": "stream",
     "text": [
      "Enter a value:4\n",
      "a= 4\n",
      "Enter b value:4\n",
      "b= 4\n",
      "Power =  256\n"
     ]
    }
   ],
   "source": [
    "a=int(input(\"Enter a value:\"))\n",
    "print(\"a=\",a)\n",
    "b=int(input(\"Enter b value:\"))\n",
    "print(\"b=\",b)\n",
    "Power= pow(a,b)\n",
    "print(\"Power = \",Power)"
   ]
  },
  {
   "cell_type": "code",
   "execution_count": 10,
   "id": "6bf4a281",
   "metadata": {},
   "outputs": [
    {
     "name": "stdout",
     "output_type": "stream",
     "text": [
      "Enter a value:45\n",
      "a= 45\n",
      "Enter b value:95\n",
      "b= 95\n",
      "Mul= 4275\n"
     ]
    }
   ],
   "source": [
    "a=int(input(\"Enter a value:\"))\n",
    "print(\"a=\",a)\n",
    "b=int(input(\"Enter b value:\"))\n",
    "print(\"b=\",b)\n",
    "Mul=a*b;\n",
    "print(\"Mul=\",Mul)"
   ]
  },
  {
   "cell_type": "code",
   "execution_count": null,
   "id": "69a0c296",
   "metadata": {},
   "outputs": [],
   "source": []
  }
 ],
 "metadata": {
  "kernelspec": {
   "display_name": "Python 3 (ipykernel)",
   "language": "python",
   "name": "python3"
  },
  "language_info": {
   "codemirror_mode": {
    "name": "ipython",
    "version": 3
   },
   "file_extension": ".py",
   "mimetype": "text/x-python",
   "name": "python",
   "nbconvert_exporter": "python",
   "pygments_lexer": "ipython3",
   "version": "3.11.4"
  }
 },
 "nbformat": 4,
 "nbformat_minor": 5
}
