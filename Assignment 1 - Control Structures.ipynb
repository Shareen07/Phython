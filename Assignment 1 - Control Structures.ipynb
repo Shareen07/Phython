{
 "cells": [
  {
   "cell_type": "code",
   "execution_count": 1,
   "id": "f1943be4",
   "metadata": {},
   "outputs": [
    {
     "name": "stdout",
     "output_type": "stream",
     "text": [
      "Welecome to Assignment-1\n"
     ]
    }
   ],
   "source": [
    "print(\"Welecome to Assignment-1\")"
   ]
  },
  {
   "cell_type": "code",
   "execution_count": 2,
   "id": "c3d2a112",
   "metadata": {},
   "outputs": [
    {
     "name": "stdout",
     "output_type": "stream",
     "text": [
      "num1= 10\n",
      "num2= 30\n",
      "Add= 40\n"
     ]
    }
   ],
   "source": [
    "num1= 10;\n",
    "print(\"num1=\", num1)\n",
    "num2= 30;\n",
    "print(\"num2=\", num2)\n",
    "Add= num1+num2;\n",
    "print(\"Add=\", Add)"
   ]
  },
  {
   "cell_type": "code",
   "execution_count": 3,
   "id": "3a22e0ae",
   "metadata": {},
   "outputs": [
    {
     "name": "stdout",
     "output_type": "stream",
     "text": [
      "Enter the BMI Index: 34\n",
      "Overweight\n"
     ]
    }
   ],
   "source": [
    "num1= float(input(\"Enter the BMI Index: \"))\n",
    "if(num1 < 19):\n",
    "    print(\"Underweight\")\n",
    "elif(num1 < 25):\n",
    "    print(\"Normal\")\n",
    "elif(num1 < 40):\n",
    "    print(\"Overweight\")\n",
    "else:\n",
    "    print(\"Obese\")"
   ]
  },
  {
   "cell_type": "code",
   "execution_count": null,
   "id": "67cb180c",
   "metadata": {},
   "outputs": [],
   "source": []
  },
  {
   "cell_type": "code",
   "execution_count": null,
   "id": "4a648495",
   "metadata": {},
   "outputs": [],
   "source": []
  },
  {
   "cell_type": "code",
   "execution_count": null,
   "id": "6c57d6bf",
   "metadata": {},
   "outputs": [],
   "source": []
  }
 ],
 "metadata": {
  "kernelspec": {
   "display_name": "Python 3 (ipykernel)",
   "language": "python",
   "name": "python3"
  },
  "language_info": {
   "codemirror_mode": {
    "name": "ipython",
    "version": 3
   },
   "file_extension": ".py",
   "mimetype": "text/x-python",
   "name": "python",
   "nbconvert_exporter": "python",
   "pygments_lexer": "ipython3",
   "version": "3.11.4"
  }
 },
 "nbformat": 4,
 "nbformat_minor": 5
}
